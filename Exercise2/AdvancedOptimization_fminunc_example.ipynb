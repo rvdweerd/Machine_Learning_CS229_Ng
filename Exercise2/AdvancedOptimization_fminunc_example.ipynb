{
 "cells": [
  {
   "cell_type": "code",
   "execution_count": 14,
   "metadata": {},
   "outputs": [],
   "source": [
    "function [jVal,gradient] = costFunction(theta)\n",
    "    jVal = (theta(1)-5)^2 + (theta(2)-5)^2;\n",
    "    gradient=zeros(2,1);\n",
    "    gradient(1)=2*(theta(1)-5);\n",
    "    gradient(2)=2*(theta(2)-5);\n",
    "end"
   ]
  },
  {
   "cell_type": "code",
   "execution_count": 15,
   "metadata": {},
   "outputs": [],
   "source": [
    "options = optimset('GradObj','on','MaxIter', 5);"
   ]
  },
  {
   "cell_type": "code",
   "execution_count": 16,
   "metadata": {},
   "outputs": [],
   "source": [
    "initialTheta=[10;0];"
   ]
  },
  {
   "cell_type": "code",
   "execution_count": 17,
   "metadata": {},
   "outputs": [],
   "source": [
    "[optTheta,functionVal,exitFlag] = fminunc(@costFunction,initialTheta,options);"
   ]
  },
  {
   "cell_type": "code",
   "execution_count": 18,
   "metadata": {},
   "outputs": [
    {
     "name": "stdout",
     "output_type": "stream",
     "text": [
      "optTheta =\n",
      "\n",
      "   5.0000\n",
      "   5.0000\n",
      "\n"
     ]
    }
   ],
   "source": [
    "optTheta"
   ]
  },
  {
   "cell_type": "code",
   "execution_count": 19,
   "metadata": {},
   "outputs": [
    {
     "name": "stdout",
     "output_type": "stream",
     "text": [
      "functionVal =    1.5777e-30\n"
     ]
    }
   ],
   "source": [
    "functionVal"
   ]
  },
  {
   "cell_type": "code",
   "execution_count": 20,
   "metadata": {},
   "outputs": [
    {
     "name": "stdout",
     "output_type": "stream",
     "text": [
      "exitFlag =  1\n"
     ]
    }
   ],
   "source": [
    "exitFlag"
   ]
  }
 ],
 "metadata": {
  "kernelspec": {
   "display_name": "Octave",
   "language": "octave",
   "name": "octave"
  },
  "language_info": {
   "file_extension": ".m",
   "help_links": [
    {
     "text": "GNU Octave",
     "url": "https://www.gnu.org/software/octave/support.html"
    },
    {
     "text": "Octave Kernel",
     "url": "https://github.com/Calysto/octave_kernel"
    },
    {
     "text": "MetaKernel Magics",
     "url": "https://metakernel.readthedocs.io/en/latest/source/README.html"
    }
   ],
   "mimetype": "text/x-octave",
   "name": "octave",
   "version": "5.2.0"
  }
 },
 "nbformat": 4,
 "nbformat_minor": 4
}
